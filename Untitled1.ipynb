{
 "cells": [
  {
   "cell_type": "markdown",
   "id": "equivalent-delhi",
   "metadata": {},
   "source": [
    "# Assignment 1, PHYS 2600\n",
    "Erin Morissette \\\n",
    "February 11, 2021"
   ]
  },
  {
   "cell_type": "markdown",
   "id": "skilled-cradle",
   "metadata": {},
   "source": [
    "## Problem 1 \n",
    "Write a Python function to calculate CVfor a given material and temperature.Your program should take the density, sample volume, Debye Temperature, tem-perature upper limit, and required accuracy as inputs, and output the heat capac-ity between T = 0 and the upper temperature limit. Use an adaptive Simpson’srule to evaluate the integral to the required accuracy."
   ]
  },
  {
   "cell_type": "code",
   "execution_count": 1,
   "id": "divine-exclusive",
   "metadata": {},
   "outputs": [],
   "source": [
    "import numpy as np\n",
    "import matplotlib.pyplot as plt\n",
    "from scipy import integrate "
   ]
  }
 ],
 "metadata": {
  "kernelspec": {
   "display_name": "Python 3",
   "language": "python",
   "name": "phys1600"
  },
  "language_info": {
   "codemirror_mode": {
    "name": "ipython",
    "version": 3
   },
   "file_extension": ".py",
   "mimetype": "text/x-python",
   "name": "python",
   "nbconvert_exporter": "python",
   "pygments_lexer": "ipython3",
   "version": "3.8.6"
  }
 },
 "nbformat": 4,
 "nbformat_minor": 5
}
