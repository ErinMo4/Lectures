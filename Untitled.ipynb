{
 "cells": [
  {
   "cell_type": "code",
   "execution_count": 4,
   "id": "swiss-lodge",
   "metadata": {},
   "outputs": [],
   "source": [
    "import Demo\n",
    "import matplotlib.pyplot as plt"
   ]
  },
  {
   "cell_type": "code",
   "execution_count": 2,
   "id": "higher-excellence",
   "metadata": {},
   "outputs": [],
   "source": [
    "from Demo import quadratic"
   ]
  },
  {
   "cell_type": "code",
   "execution_count": 3,
   "id": "absent-desert",
   "metadata": {},
   "outputs": [
    {
     "data": {
      "text/plain": [
       "8"
      ]
     },
     "execution_count": 3,
     "metadata": {},
     "output_type": "execute_result"
    }
   ],
   "source": [
    "quadratic(2,2)"
   ]
  },
  {
   "cell_type": "code",
   "execution_count": null,
   "id": "intensive-title",
   "metadata": {},
   "outputs": [],
   "source": [
    "y = Demo.parabola(np.arange(10), 10)\n",
    "plt.plot(y)"
   ]
  }
 ],
 "metadata": {
  "kernelspec": {
   "display_name": "Python 3",
   "language": "python",
   "name": "phys1600"
  },
  "language_info": {
   "codemirror_mode": {
    "name": "ipython",
    "version": 3
   },
   "file_extension": ".py",
   "mimetype": "text/x-python",
   "name": "python",
   "nbconvert_exporter": "python",
   "pygments_lexer": "ipython3",
   "version": "3.8.6"
  }
 },
 "nbformat": 4,
 "nbformat_minor": 5
}
