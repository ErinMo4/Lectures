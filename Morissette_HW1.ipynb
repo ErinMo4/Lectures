{
 "cells": [
  {
   "cell_type": "markdown",
   "id": "prospective-sustainability",
   "metadata": {},
   "source": [
    "# Assignment 1, PHYS 2600\n",
    "Erin Morissette \\\n",
    "February 11, 2021"
   ]
  },
  {
   "cell_type": "markdown",
   "id": "fourth-bernard",
   "metadata": {},
   "source": [
    "## Problem 1 \n",
    "Write a Python function to calculate CVfor a given material and temperature.Your program should take the density, sample volume, Debye Temperature, tem-perature upper limit, and required accuracy as inputs, and output the heat capac-ity between T = 0 and the upper temperature limit. Use an adaptive Simpson’srule to evaluate the integral to the required accuracy."
   ]
  },
  {
   "cell_type": "code",
   "execution_count": 1,
   "id": "turkish-attribute",
   "metadata": {},
   "outputs": [],
   "source": [
    "import numpy as np\n",
    "import matplotlib.pyplot as plt\n",
    "from scipy import integrate "
   ]
  },
  {
   "cell_type": "code",
   "execution_count": 65,
   "id": "recovered-method",
   "metadata": {},
   "outputs": [],
   "source": [
    "kB = 1.38e-23\n",
    "\n",
    "def integrand(x, power1, power2):\n",
    "    \n",
    "    \n",
    "    f = (x**power1 * np.exp(x))/(np.exp(x) -1)**power2\n",
    "    \n",
    "    return f\n",
    "\n",
    "\n",
    "def adap_Simpson(f, start, stop, N, error, args = None):\n",
    "    \n",
    "    width = stop - start\n",
    "    h = width/N\n",
    "    x = np.arange(start, stop+h, h)\n",
    "    \n",
    "      \n",
    "    S =  (2*f(x[2:-2:2],*args).sum() + f(start,*args) + f(stop,*args)) * 1/3\n",
    "    \n",
    "    eps = 10\n",
    "    T = 0\n",
    "    \n",
    "    while eps >= error:\n",
    "        Fm = h*(S + 2*T)\n",
    "        S = S + T\n",
    "        N = 2*N\n",
    "        h = width/N\n",
    "        x = np.arange(start, stop+h, h)\n",
    "        T = f(x[1:-2:2],*args).sum()*(2/3)\n",
    "        F = h*(S + 2*T)\n",
    "        eps = (F - Fm)*(1/15)\n",
    "        \n",
    "    return F\n"
   ]
  },
  {
   "cell_type": "code",
   "execution_count": 44,
   "id": "amazing-allergy",
   "metadata": {},
   "outputs": [
    {
     "name": "stdout",
     "output_type": "stream",
     "text": [
      "(249.9918640136719, 0.000515272352432324)\n"
     ]
    }
   ],
   "source": [
    "# Test of adaptive Simpson \n",
    "integral = adap_Simpson(polynomial, 0, 10, 100, .001, args = (0,5))\n",
    "print(integral)"
   ]
  },
  {
   "cell_type": "code",
   "execution_count": 47,
   "id": "controlling-partner",
   "metadata": {},
   "outputs": [
    {
     "data": {
      "text/plain": [
       "[<matplotlib.lines.Line2D at 0x7fc318dc06d0>]"
      ]
     },
     "execution_count": 47,
     "metadata": {},
     "output_type": "execute_result"
    },
    {
     "data": {
      "image/png": "[encoded data removed]",
      "text/plain": [
       "<Figure size 432x288 with 1 Axes>"
      ]
     },
     "metadata": {
      "needs_background": "light"
     },
     "output_type": "display_data"
    }
   ],
   "source": [
    "# Plot of integrand - upper limit of integral should be >= 20\n",
    "x = np.linspace(0.1,100,1000)\n",
    "plt.plot(x, 9* kB* integrand(x,4,2))"
   ]
  },
  {
   "cell_type": "code",
   "execution_count": null,
   "id": "stone-flash",
   "metadata": {},
   "outputs": [
    {
     "name": "stderr",
     "output_type": "stream",
     "text": [
      "<ipython-input-65-eadb3e33dc44>:6: RuntimeWarning: overflow encountered in square\n",
      "  f = (x**power1 * np.exp(x))/(np.exp(x) -1)**power2\n",
      "<ipython-input-65-eadb3e33dc44>:6: RuntimeWarning: overflow encountered in double_scalars\n",
      "  f = (x**power1 * np.exp(x))/(np.exp(x) -1)**power2\n",
      "<ipython-input-65-eadb3e33dc44>:6: RuntimeWarning: overflow encountered in exp\n",
      "  f = (x**power1 * np.exp(x))/(np.exp(x) -1)**power2\n",
      "<ipython-input-65-eadb3e33dc44>:6: RuntimeWarning: overflow encountered in multiply\n",
      "  f = (x**power1 * np.exp(x))/(np.exp(x) -1)**power2\n",
      "<ipython-input-65-eadb3e33dc44>:6: RuntimeWarning: invalid value encountered in true_divide\n",
      "  f = (x**power1 * np.exp(x))/(np.exp(x) -1)**power2\n",
      "<ipython-input-65-eadb3e33dc44>:6: RuntimeWarning: invalid value encountered in double_scalars\n",
      "  f = (x**power1 * np.exp(x))/(np.exp(x) -1)**power2\n"
     ]
    }
   ],
   "source": [
    "def Cv(density, volume, temp, tempD, error):\n",
    "    \n",
    "    integral = adap_Simpson(integrand, 0.0001, tempD/temp, 1000, error, args = (4,2))\n",
    "    spec_Cv = 9.0 * kB * (temp/tempD)**3 * integral\n",
    "    mass = density*volume \n",
    "    Cv = mass*spec_Cv\n",
    "    \n",
    "    return Cv\n",
    "    \n",
    "\n",
    "temperature = np.linspace(1,200,10000)\n",
    "td1 = 105\n",
    "td2 = 428\n",
    "td3 = 2230\n",
    "\n",
    "\n",
    "lead = []\n",
    "aluminum = []\n",
    "diamond = []\n",
    "for i in temperature:\n",
    "    lead.append( Cv(11340, 1e-6, i, 105, .001))\n",
    "    aluminum.append(Cv(2700, 1e-6, i, 428, .001))\n",
    "    diamond.append(Cv(3520, 1e-6, i, 2230, .001))\n",
    "    \n",
    "    \n"
   ]
  },
  {
   "cell_type": "code",
   "execution_count": 101,
   "id": "boring-institute",
   "metadata": {},
   "outputs": [
    {
     "data": {
      "text/plain": [
       "<matplotlib.lines.Line2D at 0x7fc31734dfd0>"
      ]
     },
     "execution_count": 101,
     "metadata": {},
     "output_type": "execute_result"
    },
    {
     "data": {
      "image/png": "[encoded data removed]",
      "text/plain": [
       "<Figure size 432x288 with 1 Axes>"
      ]
     },
     "metadata": {
      "needs_background": "light"
     },
     "output_type": "display_data"
    }
   ],
   "source": [
    "plt.plot(temperature/td1,lead)\n",
    "plt.plot(temperature/td2, aluminum)\n",
    "plt.plot(temperature/td3, diamond)\n",
    "plt.grid()\n",
    "plt.axvline(x = 105)"
   ]
  },
  {
   "cell_type": "code",
   "execution_count": 82,
   "id": "legendary-scott",
   "metadata": {},
   "outputs": [
    {
     "data": {
      "text/plain": [
       "1.6125442024779857e-22"
      ]
     },
     "execution_count": 82,
     "metadata": {},
     "output_type": "execute_result"
    }
   ],
   "source": [
    "Cv(1,1,1.,20.,.001)"
   ]
  },
  {
   "cell_type": "markdown",
   "id": "utility-airfare",
   "metadata": {},
   "source": [
    "1000 mm3, samples of Lead θD= 105 K,Aluminum θD= 428 K, and Diamond θD= 2230 K"
   ]
  },
  {
   "cell_type": "code",
   "execution_count": null,
   "id": "white-paradise",
   "metadata": {},
   "outputs": [],
   "source": []
  }
 ],
 "metadata": {
  "kernelspec": {
   "display_name": "Python 3",
   "language": "python",
   "name": "phys1600"
  },
  "language_info": {
   "codemirror_mode": {
    "name": "ipython",
    "version": 3
   },
   "file_extension": ".py",
   "mimetype": "text/x-python",
   "name": "python",
   "nbconvert_exporter": "python",
   "pygments_lexer": "ipython3",
   "version": "3.8.6"
  }
 },
 "nbformat": 4,
 "nbformat_minor": 5
}
